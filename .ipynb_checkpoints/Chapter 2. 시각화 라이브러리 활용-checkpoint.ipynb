{
 "cells": [
  {
   "cell_type": "markdown",
   "id": "f5a9e294-8a3c-4fba-9af9-2f58918d15e1",
   "metadata": {},
   "source": [
    "## **필요한 라이브러리 import**"
   ]
  },
  {
   "cell_type": "code",
   "execution_count": 115,
   "id": "5a21b361-b7a0-4139-bb66-8b307da89593",
   "metadata": {},
   "outputs": [],
   "source": [
    "import numpy as np\n",
    "import pandas as pd\n",
    "import matplotlib.pyplot as plt\n",
    "import seaborn as sns\n",
    "\n",
    "#신용카드 채무 불이행 데이터\n",
    "df = pd.read_csv(\"https://coplit-next-jupyter-blobs.s3.ap-northeast-2.amazonaws.com/credit_card_default.csv\")"
   ]
  },
  {
   "cell_type": "markdown",
   "id": "da1be9e9-a75f-41d7-bf7a-46e3e8bd966d",
   "metadata": {},
   "source": [
    "## **기본 전처리**"
   ]
  },
  {
   "cell_type": "code",
   "execution_count": 84,
   "id": "19233043-ebe2-4ec5-92d6-bfcfc215ac46",
   "metadata": {},
   "outputs": [
    {
     "data": {
      "text/plain": [
       "MARRIAGE\n",
       "0       54\n",
       "1    13659\n",
       "2    15964\n",
       "3      323\n",
       "Name: count, dtype: int64"
      ]
     },
     "execution_count": 84,
     "metadata": {},
     "output_type": "execute_result"
    }
   ],
   "source": [
    "\"\"\"\n",
    "- 1: 기혼\n",
    "- 2: 미혼\n",
    "- 3: 기타\n",
    "\n",
    "NOTE:\n",
    "- 0: 데이터셋 소개에 언급되지 않은 카테고리\n",
    "- 마찬가지로 개수가 적으니 분석시 제외하는 것을 고려 할 수 있음\n",
    "\"\"\"\n",
    "\n",
    "df.MARRIAGE.value_counts().sort_index()"
   ]
  },
  {
   "cell_type": "code",
   "execution_count": 85,
   "id": "8241facd-d8cb-4220-9f4c-17e272ab5de8",
   "metadata": {},
   "outputs": [
    {
     "data": {
      "text/plain": [
       "0        False\n",
       "1        False\n",
       "2        False\n",
       "3        False\n",
       "4        False\n",
       "         ...  \n",
       "29995    False\n",
       "29996    False\n",
       "29997    False\n",
       "29998    False\n",
       "29999    False\n",
       "Name: MARRIAGE, Length: 30000, dtype: bool"
      ]
     },
     "execution_count": 85,
     "metadata": {},
     "output_type": "execute_result"
    }
   ],
   "source": [
    "# MARRIAGE가 0인 케이스 선택\n",
    "idxs = df.MARRIAGE.isin([0])\n",
    "idxs"
   ]
  },
  {
   "cell_type": "code",
   "execution_count": 86,
   "id": "8769e05d-57ef-4062-a30c-82f8c10c21cc",
   "metadata": {},
   "outputs": [],
   "source": [
    "# marriage가 0이 아닌 케이스만 선택\n",
    "df = df[~idxs]"
   ]
  },
  {
   "cell_type": "code",
   "execution_count": 87,
   "id": "702cacb4-7e58-4218-994d-982a86b597a1",
   "metadata": {},
   "outputs": [
    {
     "data": {
      "text/plain": [
       "MARRIAGE\n",
       "1    13659\n",
       "2    15964\n",
       "3      323\n",
       "Name: count, dtype: int64"
      ]
     },
     "execution_count": 87,
     "metadata": {},
     "output_type": "execute_result"
    }
   ],
   "source": [
    "df.MARRIAGE.value_counts().sort_index()"
   ]
  },
  {
   "cell_type": "code",
   "execution_count": 88,
   "id": "c471d23b-0ff5-428d-9182-1505b992075a",
   "metadata": {},
   "outputs": [
    {
     "data": {
      "text/plain": [
       "EDUCATION\n",
       "0       14\n",
       "1    10581\n",
       "2    14024\n",
       "3     4873\n",
       "4      123\n",
       "5      280\n",
       "6       51\n",
       "Name: count, dtype: int64"
      ]
     },
     "execution_count": 88,
     "metadata": {},
     "output_type": "execute_result"
    }
   ],
   "source": [
    "\"\"\"\n",
    "- 1 = 대학원 졸업\n",
    "- 2 = 대학교 졸업\n",
    "- 3 = 고등학교 졸업\n",
    "- 4 = 기타\n",
    "\n",
    "NOTE:\n",
    "- 0, 5, 6: 데이터셋 소개에 언급되지 않은 카테고리\n",
    "- 개수가 적으니 분석시 제외하는 것을 고려 할 수 있음\n",
    "\"\"\"\n",
    "\n",
    "df.EDUCATION.value_counts().sort_index()"
   ]
  },
  {
   "cell_type": "code",
   "execution_count": 89,
   "id": "6d45000c-e4d6-4124-8d4d-eb880c60b9ec",
   "metadata": {},
   "outputs": [],
   "source": [
    "# EDUCATION 0, 5, 6이 아닌 케이스만 선택\n",
    "idxs = df.EDUCATION.isin([0, 5, 6])\n",
    "df = df[~idxs]"
   ]
  },
  {
   "cell_type": "code",
   "execution_count": 90,
   "id": "6beb9a88-4731-4116-aece-eb102a6347ba",
   "metadata": {},
   "outputs": [
    {
     "data": {
      "text/plain": [
       "EDUCATION\n",
       "1    10581\n",
       "2    14024\n",
       "3     4873\n",
       "4      123\n",
       "Name: count, dtype: int64"
      ]
     },
     "execution_count": 90,
     "metadata": {},
     "output_type": "execute_result"
    }
   ],
   "source": [
    "df.EDUCATION.value_counts().sort_index()"
   ]
  },
  {
   "cell_type": "code",
   "execution_count": 91,
   "id": "53529a6f-c6a2-4bbc-8ef2-bc210afc051f",
   "metadata": {},
   "outputs": [],
   "source": [
    "# 인덱스 초기화 (0 ~ 전체 데이터수 -1)\n",
    "df = df.reset_index(drop=True)"
   ]
  },
  {
   "cell_type": "code",
   "execution_count": 92,
   "id": "d95fa892-ec9a-47d2-bc52-7aaef0dbc9fa",
   "metadata": {},
   "outputs": [
    {
     "data": {
      "text/plain": [
       "RangeIndex(start=0, stop=29601, step=1)"
      ]
     },
     "execution_count": 92,
     "metadata": {},
     "output_type": "execute_result"
    }
   ],
   "source": [
    "df.index"
   ]
  },
  {
   "cell_type": "code",
   "execution_count": 93,
   "id": "05a1eafd-fa61-417d-b88c-d8edf9e44dd5",
   "metadata": {},
   "outputs": [
    {
     "data": {
      "text/html": [
       "<div>\n",
       "<style scoped>\n",
       "    .dataframe tbody tr th:only-of-type {\n",
       "        vertical-align: middle;\n",
       "    }\n",
       "\n",
       "    .dataframe tbody tr th {\n",
       "        vertical-align: top;\n",
       "    }\n",
       "\n",
       "    .dataframe thead th {\n",
       "        text-align: right;\n",
       "    }\n",
       "</style>\n",
       "<table border=\"1\" class=\"dataframe\">\n",
       "  <thead>\n",
       "    <tr style=\"text-align: right;\">\n",
       "      <th></th>\n",
       "      <th>ID</th>\n",
       "      <th>LIMIT_BAL</th>\n",
       "      <th>GENDER</th>\n",
       "      <th>EDUCATION</th>\n",
       "      <th>MARRIAGE</th>\n",
       "      <th>AGE</th>\n",
       "      <th>PAY1</th>\n",
       "      <th>PAY2</th>\n",
       "      <th>PAY3</th>\n",
       "      <th>PAY4</th>\n",
       "      <th>...</th>\n",
       "      <th>BILL_AMT4</th>\n",
       "      <th>BILL_AMT5</th>\n",
       "      <th>BILL_AMT6</th>\n",
       "      <th>PAY_AMT1</th>\n",
       "      <th>PAY_AMT2</th>\n",
       "      <th>PAY_AMT3</th>\n",
       "      <th>PAY_AMT4</th>\n",
       "      <th>PAY_AMT5</th>\n",
       "      <th>PAY_AMT6</th>\n",
       "      <th>DEFAULT</th>\n",
       "    </tr>\n",
       "  </thead>\n",
       "  <tbody>\n",
       "    <tr>\n",
       "      <th>0</th>\n",
       "      <td>1</td>\n",
       "      <td>20000</td>\n",
       "      <td>2</td>\n",
       "      <td>2</td>\n",
       "      <td>1</td>\n",
       "      <td>24</td>\n",
       "      <td>2</td>\n",
       "      <td>2</td>\n",
       "      <td>-1</td>\n",
       "      <td>-1</td>\n",
       "      <td>...</td>\n",
       "      <td>0</td>\n",
       "      <td>0</td>\n",
       "      <td>0</td>\n",
       "      <td>0</td>\n",
       "      <td>689</td>\n",
       "      <td>0</td>\n",
       "      <td>0</td>\n",
       "      <td>0</td>\n",
       "      <td>0</td>\n",
       "      <td>1</td>\n",
       "    </tr>\n",
       "    <tr>\n",
       "      <th>1</th>\n",
       "      <td>2</td>\n",
       "      <td>120000</td>\n",
       "      <td>2</td>\n",
       "      <td>2</td>\n",
       "      <td>2</td>\n",
       "      <td>26</td>\n",
       "      <td>-1</td>\n",
       "      <td>2</td>\n",
       "      <td>0</td>\n",
       "      <td>0</td>\n",
       "      <td>...</td>\n",
       "      <td>3272</td>\n",
       "      <td>3455</td>\n",
       "      <td>3261</td>\n",
       "      <td>0</td>\n",
       "      <td>1000</td>\n",
       "      <td>1000</td>\n",
       "      <td>1000</td>\n",
       "      <td>0</td>\n",
       "      <td>2000</td>\n",
       "      <td>1</td>\n",
       "    </tr>\n",
       "    <tr>\n",
       "      <th>2</th>\n",
       "      <td>3</td>\n",
       "      <td>90000</td>\n",
       "      <td>2</td>\n",
       "      <td>2</td>\n",
       "      <td>2</td>\n",
       "      <td>34</td>\n",
       "      <td>0</td>\n",
       "      <td>0</td>\n",
       "      <td>0</td>\n",
       "      <td>0</td>\n",
       "      <td>...</td>\n",
       "      <td>14331</td>\n",
       "      <td>14948</td>\n",
       "      <td>15549</td>\n",
       "      <td>1518</td>\n",
       "      <td>1500</td>\n",
       "      <td>1000</td>\n",
       "      <td>1000</td>\n",
       "      <td>1000</td>\n",
       "      <td>5000</td>\n",
       "      <td>0</td>\n",
       "    </tr>\n",
       "    <tr>\n",
       "      <th>3</th>\n",
       "      <td>4</td>\n",
       "      <td>50000</td>\n",
       "      <td>2</td>\n",
       "      <td>2</td>\n",
       "      <td>1</td>\n",
       "      <td>37</td>\n",
       "      <td>0</td>\n",
       "      <td>0</td>\n",
       "      <td>0</td>\n",
       "      <td>0</td>\n",
       "      <td>...</td>\n",
       "      <td>28314</td>\n",
       "      <td>28959</td>\n",
       "      <td>29547</td>\n",
       "      <td>2000</td>\n",
       "      <td>2019</td>\n",
       "      <td>1200</td>\n",
       "      <td>1100</td>\n",
       "      <td>1069</td>\n",
       "      <td>1000</td>\n",
       "      <td>0</td>\n",
       "    </tr>\n",
       "    <tr>\n",
       "      <th>4</th>\n",
       "      <td>5</td>\n",
       "      <td>50000</td>\n",
       "      <td>1</td>\n",
       "      <td>2</td>\n",
       "      <td>1</td>\n",
       "      <td>57</td>\n",
       "      <td>-1</td>\n",
       "      <td>0</td>\n",
       "      <td>-1</td>\n",
       "      <td>0</td>\n",
       "      <td>...</td>\n",
       "      <td>20940</td>\n",
       "      <td>19146</td>\n",
       "      <td>19131</td>\n",
       "      <td>2000</td>\n",
       "      <td>36681</td>\n",
       "      <td>10000</td>\n",
       "      <td>9000</td>\n",
       "      <td>689</td>\n",
       "      <td>679</td>\n",
       "      <td>0</td>\n",
       "    </tr>\n",
       "  </tbody>\n",
       "</table>\n",
       "<p>5 rows × 25 columns</p>\n",
       "</div>"
      ],
      "text/plain": [
       "   ID  LIMIT_BAL  GENDER  EDUCATION  MARRIAGE  AGE  PAY1  PAY2  PAY3  PAY4  \\\n",
       "0   1      20000       2          2         1   24     2     2    -1    -1   \n",
       "1   2     120000       2          2         2   26    -1     2     0     0   \n",
       "2   3      90000       2          2         2   34     0     0     0     0   \n",
       "3   4      50000       2          2         1   37     0     0     0     0   \n",
       "4   5      50000       1          2         1   57    -1     0    -1     0   \n",
       "\n",
       "   ...  BILL_AMT4  BILL_AMT5  BILL_AMT6  PAY_AMT1  PAY_AMT2  PAY_AMT3  \\\n",
       "0  ...          0          0          0         0       689         0   \n",
       "1  ...       3272       3455       3261         0      1000      1000   \n",
       "2  ...      14331      14948      15549      1518      1500      1000   \n",
       "3  ...      28314      28959      29547      2000      2019      1200   \n",
       "4  ...      20940      19146      19131      2000     36681     10000   \n",
       "\n",
       "   PAY_AMT4  PAY_AMT5  PAY_AMT6  DEFAULT  \n",
       "0         0         0         0        1  \n",
       "1      1000         0      2000        1  \n",
       "2      1000      1000      5000        0  \n",
       "3      1100      1069      1000        0  \n",
       "4      9000       689       679        0  \n",
       "\n",
       "[5 rows x 25 columns]"
      ]
     },
     "execution_count": 93,
     "metadata": {},
     "output_type": "execute_result"
    }
   ],
   "source": [
    "df.head()"
   ]
  },
  {
   "cell_type": "code",
   "execution_count": 94,
   "id": "9ea8d19f-55ed-43bd-85ac-8595c483ddde",
   "metadata": {},
   "outputs": [],
   "source": [
    "\"\"\"\n",
    "수치로 된 데이터 문자열로 변경\n",
    "\"\"\"\n",
    "\n",
    "df[\"GENDER\"] = df.GENDER.replace({1: \"Male\", 2: \"Female\"})\n",
    "df[\"MARRIAGE\"] = df.MARRIAGE.replace({1: \"Married\", 2: \"Single\", 3: \"Others\"})\n",
    "df[\"EDUCATION\"] = df.EDUCATION.replace({1: \"Graduate School\", 2: \"University\", 3: \"High School\", 4: \"Others\"})\n",
    "df[\"DEFAULT\"] = df.DEFAULT.replace({0: \"Non-Default\", 1: \"Default\"})"
   ]
  },
  {
   "cell_type": "code",
   "execution_count": 95,
   "id": "f07ce717-15af-4ee5-a88b-c3af902e547e",
   "metadata": {},
   "outputs": [
    {
     "data": {
      "text/html": [
       "<div>\n",
       "<style scoped>\n",
       "    .dataframe tbody tr th:only-of-type {\n",
       "        vertical-align: middle;\n",
       "    }\n",
       "\n",
       "    .dataframe tbody tr th {\n",
       "        vertical-align: top;\n",
       "    }\n",
       "\n",
       "    .dataframe thead th {\n",
       "        text-align: right;\n",
       "    }\n",
       "</style>\n",
       "<table border=\"1\" class=\"dataframe\">\n",
       "  <thead>\n",
       "    <tr style=\"text-align: right;\">\n",
       "      <th></th>\n",
       "      <th>ID</th>\n",
       "      <th>LIMIT_BAL</th>\n",
       "      <th>GENDER</th>\n",
       "      <th>EDUCATION</th>\n",
       "      <th>MARRIAGE</th>\n",
       "      <th>AGE</th>\n",
       "      <th>PAY1</th>\n",
       "      <th>PAY2</th>\n",
       "      <th>PAY3</th>\n",
       "      <th>PAY4</th>\n",
       "      <th>...</th>\n",
       "      <th>BILL_AMT4</th>\n",
       "      <th>BILL_AMT5</th>\n",
       "      <th>BILL_AMT6</th>\n",
       "      <th>PAY_AMT1</th>\n",
       "      <th>PAY_AMT2</th>\n",
       "      <th>PAY_AMT3</th>\n",
       "      <th>PAY_AMT4</th>\n",
       "      <th>PAY_AMT5</th>\n",
       "      <th>PAY_AMT6</th>\n",
       "      <th>DEFAULT</th>\n",
       "    </tr>\n",
       "  </thead>\n",
       "  <tbody>\n",
       "    <tr>\n",
       "      <th>0</th>\n",
       "      <td>1</td>\n",
       "      <td>20000</td>\n",
       "      <td>Female</td>\n",
       "      <td>University</td>\n",
       "      <td>Married</td>\n",
       "      <td>24</td>\n",
       "      <td>2</td>\n",
       "      <td>2</td>\n",
       "      <td>-1</td>\n",
       "      <td>-1</td>\n",
       "      <td>...</td>\n",
       "      <td>0</td>\n",
       "      <td>0</td>\n",
       "      <td>0</td>\n",
       "      <td>0</td>\n",
       "      <td>689</td>\n",
       "      <td>0</td>\n",
       "      <td>0</td>\n",
       "      <td>0</td>\n",
       "      <td>0</td>\n",
       "      <td>Default</td>\n",
       "    </tr>\n",
       "    <tr>\n",
       "      <th>1</th>\n",
       "      <td>2</td>\n",
       "      <td>120000</td>\n",
       "      <td>Female</td>\n",
       "      <td>University</td>\n",
       "      <td>Single</td>\n",
       "      <td>26</td>\n",
       "      <td>-1</td>\n",
       "      <td>2</td>\n",
       "      <td>0</td>\n",
       "      <td>0</td>\n",
       "      <td>...</td>\n",
       "      <td>3272</td>\n",
       "      <td>3455</td>\n",
       "      <td>3261</td>\n",
       "      <td>0</td>\n",
       "      <td>1000</td>\n",
       "      <td>1000</td>\n",
       "      <td>1000</td>\n",
       "      <td>0</td>\n",
       "      <td>2000</td>\n",
       "      <td>Default</td>\n",
       "    </tr>\n",
       "    <tr>\n",
       "      <th>2</th>\n",
       "      <td>3</td>\n",
       "      <td>90000</td>\n",
       "      <td>Female</td>\n",
       "      <td>University</td>\n",
       "      <td>Single</td>\n",
       "      <td>34</td>\n",
       "      <td>0</td>\n",
       "      <td>0</td>\n",
       "      <td>0</td>\n",
       "      <td>0</td>\n",
       "      <td>...</td>\n",
       "      <td>14331</td>\n",
       "      <td>14948</td>\n",
       "      <td>15549</td>\n",
       "      <td>1518</td>\n",
       "      <td>1500</td>\n",
       "      <td>1000</td>\n",
       "      <td>1000</td>\n",
       "      <td>1000</td>\n",
       "      <td>5000</td>\n",
       "      <td>Non-Default</td>\n",
       "    </tr>\n",
       "    <tr>\n",
       "      <th>3</th>\n",
       "      <td>4</td>\n",
       "      <td>50000</td>\n",
       "      <td>Female</td>\n",
       "      <td>University</td>\n",
       "      <td>Married</td>\n",
       "      <td>37</td>\n",
       "      <td>0</td>\n",
       "      <td>0</td>\n",
       "      <td>0</td>\n",
       "      <td>0</td>\n",
       "      <td>...</td>\n",
       "      <td>28314</td>\n",
       "      <td>28959</td>\n",
       "      <td>29547</td>\n",
       "      <td>2000</td>\n",
       "      <td>2019</td>\n",
       "      <td>1200</td>\n",
       "      <td>1100</td>\n",
       "      <td>1069</td>\n",
       "      <td>1000</td>\n",
       "      <td>Non-Default</td>\n",
       "    </tr>\n",
       "    <tr>\n",
       "      <th>4</th>\n",
       "      <td>5</td>\n",
       "      <td>50000</td>\n",
       "      <td>Male</td>\n",
       "      <td>University</td>\n",
       "      <td>Married</td>\n",
       "      <td>57</td>\n",
       "      <td>-1</td>\n",
       "      <td>0</td>\n",
       "      <td>-1</td>\n",
       "      <td>0</td>\n",
       "      <td>...</td>\n",
       "      <td>20940</td>\n",
       "      <td>19146</td>\n",
       "      <td>19131</td>\n",
       "      <td>2000</td>\n",
       "      <td>36681</td>\n",
       "      <td>10000</td>\n",
       "      <td>9000</td>\n",
       "      <td>689</td>\n",
       "      <td>679</td>\n",
       "      <td>Non-Default</td>\n",
       "    </tr>\n",
       "  </tbody>\n",
       "</table>\n",
       "<p>5 rows × 25 columns</p>\n",
       "</div>"
      ],
      "text/plain": [
       "   ID  LIMIT_BAL  GENDER   EDUCATION MARRIAGE  AGE  PAY1  PAY2  PAY3  PAY4  \\\n",
       "0   1      20000  Female  University  Married   24     2     2    -1    -1   \n",
       "1   2     120000  Female  University   Single   26    -1     2     0     0   \n",
       "2   3      90000  Female  University   Single   34     0     0     0     0   \n",
       "3   4      50000  Female  University  Married   37     0     0     0     0   \n",
       "4   5      50000    Male  University  Married   57    -1     0    -1     0   \n",
       "\n",
       "   ...  BILL_AMT4  BILL_AMT5  BILL_AMT6  PAY_AMT1  PAY_AMT2  PAY_AMT3  \\\n",
       "0  ...          0          0          0         0       689         0   \n",
       "1  ...       3272       3455       3261         0      1000      1000   \n",
       "2  ...      14331      14948      15549      1518      1500      1000   \n",
       "3  ...      28314      28959      29547      2000      2019      1200   \n",
       "4  ...      20940      19146      19131      2000     36681     10000   \n",
       "\n",
       "   PAY_AMT4  PAY_AMT5  PAY_AMT6      DEFAULT  \n",
       "0         0         0         0      Default  \n",
       "1      1000         0      2000      Default  \n",
       "2      1000      1000      5000  Non-Default  \n",
       "3      1100      1069      1000  Non-Default  \n",
       "4      9000       689       679  Non-Default  \n",
       "\n",
       "[5 rows x 25 columns]"
      ]
     },
     "execution_count": 95,
     "metadata": {},
     "output_type": "execute_result"
    }
   ],
   "source": [
    "df.head()"
   ]
  },
  {
   "cell_type": "code",
   "execution_count": 96,
   "id": "678b9878-0735-4a1d-9b0c-bd4e0abf6c2e",
   "metadata": {},
   "outputs": [
    {
     "data": {
      "text/plain": [
       "array(['Female', 'Male'], dtype=object)"
      ]
     },
     "execution_count": 96,
     "metadata": {},
     "output_type": "execute_result"
    }
   ],
   "source": [
    "df.GENDER.unique()"
   ]
  },
  {
   "cell_type": "markdown",
   "id": "b725df34-ac74-4353-949f-81929813f9c6",
   "metadata": {},
   "source": [
    "## **matplotlib를 활용한 시각화**"
   ]
  },
  {
   "cell_type": "markdown",
   "id": "dde272e9-fb3f-47a7-a2b2-66189bafb173",
   "metadata": {},
   "source": [
    "### 일변량 시각화"
   ]
  },
  {
   "cell_type": "markdown",
   "id": "424a2cff-a733-48f3-b385-bb02976e6c7e",
   "metadata": {},
   "source": [
    "#### **Bar chart: 채무 불이행 빈도**"
   ]
  },
  {
   "cell_type": "code",
   "execution_count": 97,
   "id": "a20c4815-ae45-4db4-a9a3-f1514d7b02c6",
   "metadata": {},
   "outputs": [
    {
     "data": {
      "text/html": [
       "<div>\n",
       "<style scoped>\n",
       "    .dataframe tbody tr th:only-of-type {\n",
       "        vertical-align: middle;\n",
       "    }\n",
       "\n",
       "    .dataframe tbody tr th {\n",
       "        vertical-align: top;\n",
       "    }\n",
       "\n",
       "    .dataframe thead th {\n",
       "        text-align: right;\n",
       "    }\n",
       "</style>\n",
       "<table border=\"1\" class=\"dataframe\">\n",
       "  <thead>\n",
       "    <tr style=\"text-align: right;\">\n",
       "      <th></th>\n",
       "      <th>DEFAULT</th>\n",
       "      <th>Frequency</th>\n",
       "    </tr>\n",
       "  </thead>\n",
       "  <tbody>\n",
       "    <tr>\n",
       "      <th>0</th>\n",
       "      <td>Default</td>\n",
       "      <td>6605</td>\n",
       "    </tr>\n",
       "    <tr>\n",
       "      <th>1</th>\n",
       "      <td>Non-Default</td>\n",
       "      <td>22996</td>\n",
       "    </tr>\n",
       "  </tbody>\n",
       "</table>\n",
       "</div>"
      ],
      "text/plain": [
       "       DEFAULT  Frequency\n",
       "0      Default       6605\n",
       "1  Non-Default      22996"
      ]
     },
     "execution_count": 97,
     "metadata": {},
     "output_type": "execute_result"
    }
   ],
   "source": [
    "cnts = df.DEFAULT.value_counts().sort_index().to_frame(\"Frequency\").reset_index()\n",
    "# df.DEFAULT.value_counts(): DEFAULT 컬럼에 있는 값(예: 0, 1 등)의 개수를 세어 Series로 반환 \n",
    "# to_frame(\"Frequency\") Series를 DataFrame으로 바꾸면서 컬럼명을 \"Frequency\"로 지정\n",
    "cnts"
   ]
  },
  {
   "cell_type": "code",
   "execution_count": 98,
   "id": "1aff2251-42ca-4068-9b19-b86547808711",
   "metadata": {},
   "outputs": [
    {
     "data": {
      "text/plain": [
       "<BarContainer object of 2 artists>"
      ]
     },
     "execution_count": 98,
     "metadata": {},
     "output_type": "execute_result"
    },
    {
     "data": {
      "image/png": "[encoded data removed]",
      "text/plain": [
       "<Figure size 500x400 with 1 Axes>"
      ]
     },
     "metadata": {},
     "output_type": "display_data"
    }
   ],
   "source": [
    "x = range(len(cnts.DEFAULT))\n",
    "y = cnts.Frequency\n",
    "xlabels = cnts.DEFAULT\n",
    "\n",
    "fig, ax = plt.subplots(1, 1, figsize=(5, 4))\n",
    "ax.bar(x, y, width=0.5, edgecolor=\"black\", tick_label=xlabels)"
   ]
  },
  {
   "cell_type": "markdown",
   "id": "d25a8d2a-dd66-4a92-ad66-55856f77f2cf",
   "metadata": {},
   "source": [
    "#### **파이차트: 학력의 비율**"
   ]
  },
  {
   "cell_type": "code",
   "execution_count": 99,
   "id": "a056a003-7c99-45a6-8af7-0209e0d24392",
   "metadata": {},
   "outputs": [
    {
     "data": {
      "text/html": [
       "<div>\n",
       "<style scoped>\n",
       "    .dataframe tbody tr th:only-of-type {\n",
       "        vertical-align: middle;\n",
       "    }\n",
       "\n",
       "    .dataframe tbody tr th {\n",
       "        vertical-align: top;\n",
       "    }\n",
       "\n",
       "    .dataframe thead th {\n",
       "        text-align: right;\n",
       "    }\n",
       "</style>\n",
       "<table border=\"1\" class=\"dataframe\">\n",
       "  <thead>\n",
       "    <tr style=\"text-align: right;\">\n",
       "      <th></th>\n",
       "      <th>EDUCATION</th>\n",
       "      <th>Frequency</th>\n",
       "    </tr>\n",
       "  </thead>\n",
       "  <tbody>\n",
       "    <tr>\n",
       "      <th>0</th>\n",
       "      <td>University</td>\n",
       "      <td>14024</td>\n",
       "    </tr>\n",
       "    <tr>\n",
       "      <th>1</th>\n",
       "      <td>Graduate School</td>\n",
       "      <td>10581</td>\n",
       "    </tr>\n",
       "    <tr>\n",
       "      <th>2</th>\n",
       "      <td>High School</td>\n",
       "      <td>4873</td>\n",
       "    </tr>\n",
       "    <tr>\n",
       "      <th>3</th>\n",
       "      <td>Others</td>\n",
       "      <td>123</td>\n",
       "    </tr>\n",
       "  </tbody>\n",
       "</table>\n",
       "</div>"
      ],
      "text/plain": [
       "         EDUCATION  Frequency\n",
       "0       University      14024\n",
       "1  Graduate School      10581\n",
       "2      High School       4873\n",
       "3           Others        123"
      ]
     },
     "execution_count": 99,
     "metadata": {},
     "output_type": "execute_result"
    }
   ],
   "source": [
    "cnts = df.groupby(\"EDUCATION\").size().sort_values(ascending=False).to_frame(\"Frequency\").reset_index()\n",
    "cnts"
   ]
  },
  {
   "cell_type": "code",
   "execution_count": 100,
   "id": "2409df47-30af-4d2d-b7e4-fcc1b5131734",
   "metadata": {},
   "outputs": [
    {
     "data": {
      "image/png": "[encoded data removed]",
      "text/plain": [
       "<Figure size 640x480 with 1 Axes>"
      ]
     },
     "metadata": {},
     "output_type": "display_data"
    }
   ],
   "source": [
    "fig, ax = plt.subplots(1, 1)\n",
    "# labels: 범주 표기, autopct: 비율 표기 (digit=2), \n",
    "# radius: 차트 크기를 조정, explode: 강조하고 싶은 범주를 떼어낼 때 사용\n",
    "_ = ax.pie(\n",
    "    cnts.Frequency, labels=cnts.EDUCATION, autopct=\"%.2f%%\",\n",
    "    radius=1.0, explode=[0.05, 0, 0, 0]\n",
    ")"
   ]
  },
  {
   "cell_type": "markdown",
   "id": "34ef7c42-aaae-4c3a-a186-4f9fdfa2ac80",
   "metadata": {},
   "source": [
    "#### **히스토그램: 신용도의 분포**"
   ]
  },
  {
   "cell_type": "code",
   "execution_count": 101,
   "id": "fe3743fc-3d10-44b5-b561-421344166f79",
   "metadata": {},
   "outputs": [
    {
     "data": {
      "text/html": [
       "<div>\n",
       "<style scoped>\n",
       "    .dataframe tbody tr th:only-of-type {\n",
       "        vertical-align: middle;\n",
       "    }\n",
       "\n",
       "    .dataframe tbody tr th {\n",
       "        vertical-align: top;\n",
       "    }\n",
       "\n",
       "    .dataframe thead th {\n",
       "        text-align: right;\n",
       "    }\n",
       "</style>\n",
       "<table border=\"1\" class=\"dataframe\">\n",
       "  <thead>\n",
       "    <tr style=\"text-align: right;\">\n",
       "      <th></th>\n",
       "      <th>LIMIT_BAL</th>\n",
       "    </tr>\n",
       "  </thead>\n",
       "  <tbody>\n",
       "    <tr>\n",
       "      <th>0</th>\n",
       "      <td>20000</td>\n",
       "    </tr>\n",
       "    <tr>\n",
       "      <th>1</th>\n",
       "      <td>120000</td>\n",
       "    </tr>\n",
       "    <tr>\n",
       "      <th>2</th>\n",
       "      <td>90000</td>\n",
       "    </tr>\n",
       "    <tr>\n",
       "      <th>3</th>\n",
       "      <td>50000</td>\n",
       "    </tr>\n",
       "    <tr>\n",
       "      <th>4</th>\n",
       "      <td>50000</td>\n",
       "    </tr>\n",
       "  </tbody>\n",
       "</table>\n",
       "</div>"
      ],
      "text/plain": [
       "   LIMIT_BAL\n",
       "0      20000\n",
       "1     120000\n",
       "2      90000\n",
       "3      50000\n",
       "4      50000"
      ]
     },
     "execution_count": 101,
     "metadata": {},
     "output_type": "execute_result"
    }
   ],
   "source": [
    "df[[\"LIMIT_BAL\"]].head()"
   ]
  },
  {
   "cell_type": "code",
   "execution_count": 102,
   "id": "f8cf2d40-4846-421a-a3ff-6ea10c5152a5",
   "metadata": {},
   "outputs": [
    {
     "data": {
      "image/png": "[encoded data removed]",
      "text/plain": [
       "<Figure size 500x400 with 1 Axes>"
      ]
     },
     "metadata": {},
     "output_type": "display_data"
    }
   ],
   "source": [
    "fig, ax = plt.subplots(figsize=(5, 4))\n",
    "_ = ax.hist(df.LIMIT_BAL, bins=50, density=True, color=\"blue\", edgecolor=\"white\")"
   ]
  },
  {
   "cell_type": "markdown",
   "id": "d9511e89-d5dd-4a02-bb95-88396eb16440",
   "metadata": {},
   "source": [
    "#### **산점도: 지난달 청구 금액과 5개월 전 청구 금액**"
   ]
  },
  {
   "cell_type": "code",
   "execution_count": 103,
   "id": "f83ce7ef-f913-4cea-8abb-1fb74d54a9eb",
   "metadata": {},
   "outputs": [
    {
     "data": {
      "text/plain": [
       "Text(0, 0.5, 'BILL_AMT6')"
      ]
     },
     "execution_count": 103,
     "metadata": {},
     "output_type": "execute_result"
    },
    {
     "data": {
      "image/png": "[encoded data removed]",
      "text/plain": [
       "<Figure size 500x300 with 1 Axes>"
      ]
     },
     "metadata": {},
     "output_type": "display_data"
    }
   ],
   "source": [
    "# 지난달 카드 청구 금액 / 5개월 전 카드 청구 금액\n",
    "x_col, y_col = \"BILL_AMT1\", \"BILL_AMT6\"\n",
    "x, y = df[x_col], df[y_col]\n",
    "\n",
    "fig, ax = plt.subplots(figsize=(5, 3))\n",
    "ax.scatter(x, y, s=5, color=\"b\", alpha=0.3, marker=\"v\")\n",
    "ax.set_xlabel(x_col)\n",
    "ax.set_ylabel(y_col)"
   ]
  },
  {
   "cell_type": "markdown",
   "id": "d8178e2d-9bd7-4edd-9fb1-41db7c6e4c6f",
   "metadata": {},
   "source": [
    "### **다변량 시각화**"
   ]
  },
  {
   "cell_type": "markdown",
   "id": "d70e895c-3605-4514-b13e-e8dba89015a5",
   "metadata": {},
   "source": [
    "#### **Bar Chart: 성별에 따른 채무 불이행 빈도**"
   ]
  },
  {
   "cell_type": "code",
   "execution_count": 104,
   "id": "b61cdc14-82cf-4982-b00d-72f8bd44b060",
   "metadata": {},
   "outputs": [
    {
     "data": {
      "text/html": [
       "<div>\n",
       "<style scoped>\n",
       "    .dataframe tbody tr th:only-of-type {\n",
       "        vertical-align: middle;\n",
       "    }\n",
       "\n",
       "    .dataframe tbody tr th {\n",
       "        vertical-align: top;\n",
       "    }\n",
       "\n",
       "    .dataframe thead th {\n",
       "        text-align: right;\n",
       "    }\n",
       "</style>\n",
       "<table border=\"1\" class=\"dataframe\">\n",
       "  <thead>\n",
       "    <tr style=\"text-align: right;\">\n",
       "      <th></th>\n",
       "      <th>GENDER</th>\n",
       "      <th>DEFAULT</th>\n",
       "      <th>Frequency</th>\n",
       "    </tr>\n",
       "  </thead>\n",
       "  <tbody>\n",
       "    <tr>\n",
       "      <th>0</th>\n",
       "      <td>Female</td>\n",
       "      <td>Non-Default</td>\n",
       "      <td>14111</td>\n",
       "    </tr>\n",
       "    <tr>\n",
       "      <th>1</th>\n",
       "      <td>Female</td>\n",
       "      <td>Default</td>\n",
       "      <td>3744</td>\n",
       "    </tr>\n",
       "    <tr>\n",
       "      <th>2</th>\n",
       "      <td>Male</td>\n",
       "      <td>Non-Default</td>\n",
       "      <td>8885</td>\n",
       "    </tr>\n",
       "    <tr>\n",
       "      <th>3</th>\n",
       "      <td>Male</td>\n",
       "      <td>Default</td>\n",
       "      <td>2861</td>\n",
       "    </tr>\n",
       "  </tbody>\n",
       "</table>\n",
       "</div>"
      ],
      "text/plain": [
       "   GENDER      DEFAULT  Frequency\n",
       "0  Female  Non-Default      14111\n",
       "1  Female      Default       3744\n",
       "2    Male  Non-Default       8885\n",
       "3    Male      Default       2861"
      ]
     },
     "execution_count": 104,
     "metadata": {},
     "output_type": "execute_result"
    }
   ],
   "source": [
    "# 성별에 따라 채무 불이행 계산\n",
    "cnts = (\n",
    "    df\n",
    "    .groupby(\"GENDER\")\n",
    "    .DEFAULT\n",
    "    .value_counts()\n",
    "    .to_frame(\"Frequency\")\n",
    "    .reset_index()\n",
    ")\n",
    "cnts"
   ]
  },
  {
   "cell_type": "code",
   "execution_count": 105,
   "id": "1f81cfed-de26-4412-909f-70ea228695b9",
   "metadata": {},
   "outputs": [
    {
     "data": {
      "text/plain": [
       "[Text(0.15, 0, 'Non-Default'), Text(1.15, 0, 'Default')]"
      ]
     },
     "execution_count": 105,
     "metadata": {},
     "output_type": "execute_result"
    },
    {
     "data": {
      "image/png": "[encoded data removed]",
      "text/plain": [
       "<Figure size 640x480 with 1 Axes>"
      ]
     },
     "metadata": {},
     "output_type": "display_data"
    }
   ],
   "source": [
    "labels = [\"Female\", \"Male\"]\n",
    "colors = [\"Blue\", \"Green\"]\n",
    "bar_width = 0.3\n",
    "\n",
    "fig, ax = plt.subplots(1, 1)\n",
    "x = range(len(cnts.DEFAULT.unique()))\n",
    "for i, lb in enumerate(labels):\n",
    "    # 현재 성별 선택\n",
    "    cur = cnts.query(f\"GENDER == '{lb}'\")\n",
    "    \n",
    "    # 현재 성별에 대한 x축 위치: 다음 label에 대해 x축 눈금 일정 간격 이동\n",
    "    cur_x = [val + bar_width*i for val in x]\n",
    "    y = cur.Frequency\n",
    "    ax.bar(cur_x, y, width=bar_width, label=lb, color=colors[i])\n",
    "\n",
    "ax.legend(title=\"GENDER\")\n",
    "ax.set_xlabel(\"DEFAULT\")\n",
    "ax.set_ylabel(\"Frequency\")\n",
    "\n",
    "# 성별에 따라 첫 카테고리 x축 위치와 마지막 카테고리 x축 위치의 중심을 x축 눈금으로 설정\n",
    "xticks_pos = [\n",
    "    (\n",
    "        val +\n",
    "        val + bar_width*(len(labels)-1)\n",
    "    ) / 2\n",
    "    for val in x\n",
    "]\n",
    "ax.set_xticks(xticks_pos)\n",
    "ax.set_xticklabels([\"Non-Default\", \"Default\"])"
   ]
  },
  {
   "cell_type": "markdown",
   "id": "3cce07f0-0dd3-4048-bb5a-0eddc33b3acc",
   "metadata": {},
   "source": [
    "#### **Bar Chart: 학력에 따른 채무 불이행 빈도**"
   ]
  },
  {
   "cell_type": "code",
   "execution_count": 106,
   "id": "d6c17ac9-7c80-443f-aa80-7383f33f8812",
   "metadata": {},
   "outputs": [
    {
     "data": {
      "text/html": [
       "<div>\n",
       "<style scoped>\n",
       "    .dataframe tbody tr th:only-of-type {\n",
       "        vertical-align: middle;\n",
       "    }\n",
       "\n",
       "    .dataframe tbody tr th {\n",
       "        vertical-align: top;\n",
       "    }\n",
       "\n",
       "    .dataframe thead th {\n",
       "        text-align: right;\n",
       "    }\n",
       "</style>\n",
       "<table border=\"1\" class=\"dataframe\">\n",
       "  <thead>\n",
       "    <tr style=\"text-align: right;\">\n",
       "      <th></th>\n",
       "      <th>EDUCATION</th>\n",
       "      <th>DEFAULT</th>\n",
       "      <th>Frequency</th>\n",
       "    </tr>\n",
       "  </thead>\n",
       "  <tbody>\n",
       "    <tr>\n",
       "      <th>0</th>\n",
       "      <td>Graduate School</td>\n",
       "      <td>Non-Default</td>\n",
       "      <td>8545</td>\n",
       "    </tr>\n",
       "    <tr>\n",
       "      <th>1</th>\n",
       "      <td>Graduate School</td>\n",
       "      <td>Default</td>\n",
       "      <td>2036</td>\n",
       "    </tr>\n",
       "    <tr>\n",
       "      <th>2</th>\n",
       "      <td>High School</td>\n",
       "      <td>Non-Default</td>\n",
       "      <td>3640</td>\n",
       "    </tr>\n",
       "    <tr>\n",
       "      <th>3</th>\n",
       "      <td>High School</td>\n",
       "      <td>Default</td>\n",
       "      <td>1233</td>\n",
       "    </tr>\n",
       "    <tr>\n",
       "      <th>4</th>\n",
       "      <td>Others</td>\n",
       "      <td>Non-Default</td>\n",
       "      <td>116</td>\n",
       "    </tr>\n",
       "    <tr>\n",
       "      <th>5</th>\n",
       "      <td>Others</td>\n",
       "      <td>Default</td>\n",
       "      <td>7</td>\n",
       "    </tr>\n",
       "    <tr>\n",
       "      <th>6</th>\n",
       "      <td>University</td>\n",
       "      <td>Non-Default</td>\n",
       "      <td>10695</td>\n",
       "    </tr>\n",
       "    <tr>\n",
       "      <th>7</th>\n",
       "      <td>University</td>\n",
       "      <td>Default</td>\n",
       "      <td>3329</td>\n",
       "    </tr>\n",
       "  </tbody>\n",
       "</table>\n",
       "</div>"
      ],
      "text/plain": [
       "         EDUCATION      DEFAULT  Frequency\n",
       "0  Graduate School  Non-Default       8545\n",
       "1  Graduate School      Default       2036\n",
       "2      High School  Non-Default       3640\n",
       "3      High School      Default       1233\n",
       "4           Others  Non-Default        116\n",
       "5           Others      Default          7\n",
       "6       University  Non-Default      10695\n",
       "7       University      Default       3329"
      ]
     },
     "execution_count": 106,
     "metadata": {},
     "output_type": "execute_result"
    }
   ],
   "source": [
    "# 성별에 따라 채무 불이행 계산\n",
    "cnts = (\n",
    "    df\n",
    "    .groupby(\"EDUCATION\")\n",
    "    .DEFAULT\n",
    "    .value_counts()\n",
    "    .to_frame(\"Frequency\")\n",
    "    .reset_index()\n",
    ")\n",
    "cnts"
   ]
  },
  {
   "cell_type": "code",
   "execution_count": 107,
   "id": "4413aef8-0ddf-4dd1-840a-de5669494289",
   "metadata": {},
   "outputs": [
    {
     "data": {
      "text/plain": [
       "[Text(0.30000000000000004, 0, 'Non-Default'), Text(1.3, 0, 'Default')]"
      ]
     },
     "execution_count": 107,
     "metadata": {},
     "output_type": "execute_result"
    },
    {
     "data": {
      "image/png": "[encoded data removed]",
      "text/plain": [
       "<Figure size 640x480 with 1 Axes>"
      ]
     },
     "metadata": {},
     "output_type": "display_data"
    }
   ],
   "source": [
    "labels = [\"Graduate School\", \"University\", \"High School\", \"Others\"]\n",
    "colors = [\"Blue\", \"Green\", \"Orange\", \"Purple\"]\n",
    "bar_width = 0.2\n",
    "\n",
    "fig, ax = plt.subplots(1, 1)\n",
    "x = range(len(cnts.DEFAULT.unique()))\n",
    "# x = [0] + [i*(len(labels)+1)*bar_width for i in range(1, len(cnts.DEFAULT.unique()))]\n",
    "for i, lb in enumerate(labels):\n",
    "    # 현재 성별 선택\n",
    "    cur = cnts.query(f\"EDUCATION == '{lb}'\")\n",
    "    \n",
    "    # 현재 성별에 대한 x축 위치: 다음 label에 대해 x축 눈금 일정 간격 이동\n",
    "    cur_x = [val + bar_width*i for val in x]\n",
    "    y = cur.Frequency\n",
    "    ax.bar(cur_x, y, width=bar_width, label=lb, color=colors[i])\n",
    "\n",
    "ax.legend(title=\"EDUCATION\")\n",
    "ax.set_xlabel(\"DEFAULT\")\n",
    "ax.set_ylabel(\"Frequency\")\n",
    "\n",
    "# 성별에 따라 첫 카테고리 x축 위치와 마지막 카테고리 x축 위치의 중심을 x축 눈금으로 설정\n",
    "xticks_pos = [\n",
    "    (\n",
    "        val +\n",
    "        val + bar_width*(len(labels)-1)\n",
    "    ) / 2\n",
    "    for val in x\n",
    "]\n",
    "ax.set_xticks(xticks_pos)\n",
    "ax.set_xticklabels([\"Non-Default\", \"Default\"])"
   ]
  },
  {
   "cell_type": "markdown",
   "id": "0660666f-4140-4a20-b50b-404aa0a70fd2",
   "metadata": {},
   "source": [
    "#### **산점도: 채부 불이행을 구분했을 때 지난달 청구 금액과 5개월 전 청구 금액**"
   ]
  },
  {
   "cell_type": "code",
   "execution_count": 108,
   "id": "309dfb14-ad16-40c2-9660-de14458016b9",
   "metadata": {},
   "outputs": [
    {
     "data": {
      "text/plain": [
       "<matplotlib.legend.Legend at 0x16c147b8a50>"
      ]
     },
     "execution_count": 108,
     "metadata": {},
     "output_type": "execute_result"
    },
    {
     "data": {
      "image/png": "[encoded data removed]",
      "text/plain": [
       "<Figure size 640x480 with 1 Axes>"
      ]
     },
     "metadata": {},
     "output_type": "display_data"
    }
   ],
   "source": [
    "# 지난달 카드 청구 금액\n",
    "x_col = \"BILL_AMT1\"\n",
    "# 5개월 전 카드 청구 금액\n",
    "y_col = \"BILL_AMT6\"\n",
    "\n",
    "\n",
    "labels = [\"Non-Default\", \"Default\"]\n",
    "colors = [\"blue\", \"orange\"]\n",
    "\n",
    "fig, ax = plt.subplots(1, 1)\n",
    "for i, lb in enumerate(labels):\n",
    "    cur = df.query(f\"DEFAULT == '{lb}'\")\n",
    "\n",
    "    x = cur[x_col]\n",
    "    y = cur[y_col]\n",
    "\n",
    "    ax.scatter(x, y, s=5, color=colors[i], label=lb)\n",
    "\n",
    "ax.grid(linestyle=\":\")\n",
    "ax.set_xlabel(x_col)\n",
    "ax.set_ylabel(y_col)\n",
    "ax.legend()"
   ]
  },
  {
   "cell_type": "markdown",
   "id": "49457709-7e26-4026-a56c-8b87d6ab9752",
   "metadata": {},
   "source": [
    "## **seaborn을 활용한 시각화**"
   ]
  },
  {
   "cell_type": "markdown",
   "id": "a6b9dc6a-b190-42da-8ba7-d26dc50eb7e7",
   "metadata": {},
   "source": [
    "### **다변량 시각화**"
   ]
  },
  {
   "cell_type": "markdown",
   "id": "bdde4742-834f-44c3-b8d7-80bb20da944c",
   "metadata": {},
   "source": [
    "#### **Bar Chart: 성별에 따른 채무 불이행 빈도**"
   ]
  },
  {
   "cell_type": "code",
   "execution_count": 109,
   "id": "7ac103ec-800e-4149-9980-5229113c8a4d",
   "metadata": {},
   "outputs": [
    {
     "data": {
      "text/html": [
       "<div>\n",
       "<style scoped>\n",
       "    .dataframe tbody tr th:only-of-type {\n",
       "        vertical-align: middle;\n",
       "    }\n",
       "\n",
       "    .dataframe tbody tr th {\n",
       "        vertical-align: top;\n",
       "    }\n",
       "\n",
       "    .dataframe thead th {\n",
       "        text-align: right;\n",
       "    }\n",
       "</style>\n",
       "<table border=\"1\" class=\"dataframe\">\n",
       "  <thead>\n",
       "    <tr style=\"text-align: right;\">\n",
       "      <th></th>\n",
       "      <th>GENDER</th>\n",
       "      <th>DEFAULT</th>\n",
       "      <th>Frequency</th>\n",
       "    </tr>\n",
       "  </thead>\n",
       "  <tbody>\n",
       "    <tr>\n",
       "      <th>0</th>\n",
       "      <td>Female</td>\n",
       "      <td>Non-Default</td>\n",
       "      <td>14111</td>\n",
       "    </tr>\n",
       "    <tr>\n",
       "      <th>1</th>\n",
       "      <td>Female</td>\n",
       "      <td>Default</td>\n",
       "      <td>3744</td>\n",
       "    </tr>\n",
       "    <tr>\n",
       "      <th>2</th>\n",
       "      <td>Male</td>\n",
       "      <td>Non-Default</td>\n",
       "      <td>8885</td>\n",
       "    </tr>\n",
       "    <tr>\n",
       "      <th>3</th>\n",
       "      <td>Male</td>\n",
       "      <td>Default</td>\n",
       "      <td>2861</td>\n",
       "    </tr>\n",
       "  </tbody>\n",
       "</table>\n",
       "</div>"
      ],
      "text/plain": [
       "   GENDER      DEFAULT  Frequency\n",
       "0  Female  Non-Default      14111\n",
       "1  Female      Default       3744\n",
       "2    Male  Non-Default       8885\n",
       "3    Male      Default       2861"
      ]
     },
     "execution_count": 109,
     "metadata": {},
     "output_type": "execute_result"
    }
   ],
   "source": [
    "# 성별에 따른 채무 불이행 빈도 계산\n",
    "cnts = (\n",
    "    df\n",
    "    .groupby(\"GENDER\")\n",
    "    .DEFAULT\n",
    "    .value_counts()\n",
    "    .to_frame(\"Frequency\")\n",
    "    .reset_index()\n",
    ")\n",
    "cnts"
   ]
  },
  {
   "cell_type": "code",
   "execution_count": 110,
   "id": "fddb7d91-b87a-417d-8bc9-e81581327ecc",
   "metadata": {},
   "outputs": [
    {
     "data": {
      "text/plain": [
       "<Axes: xlabel='DEFAULT', ylabel='Frequency'>"
      ]
     },
     "execution_count": 110,
     "metadata": {},
     "output_type": "execute_result"
    },
    {
     "data": {
      "image/png": "[encoded data removed]",
      "text/plain": [
       "<Figure size 640x480 with 1 Axes>"
      ]
     },
     "metadata": {},
     "output_type": "display_data"
    }
   ],
   "source": [
    "sns.barplot(\n",
    "    cnts,\n",
    "    x=\"DEFAULT\",  # x축: 범주\n",
    "    y=\"Frequency\",  # y축: 빈도\n",
    "    hue=\"GENDER\",  # 그룹: 성별,\n",
    "    order=[\"Non-Default\", \"Default\"],  # x축 범주 순서\n",
    "    hue_order=[\"Male\", \"Female\"],  # 그룹 범주 순서\n",
    "    width=0.5,  # bar 두께\n",
    ")"
   ]
  },
  {
   "cell_type": "markdown",
   "id": "8a839ad5-a030-47d1-80de-658663eb271d",
   "metadata": {},
   "source": [
    "#### **히트맵: 수치형 변수들의 상관계수**"
   ]
  },
  {
   "cell_type": "code",
   "execution_count": 111,
   "id": "00b653d9-45e9-4cfd-b3d4-25d09ee8e042",
   "metadata": {},
   "outputs": [
    {
     "data": {
      "text/html": [
       "<div>\n",
       "<style scoped>\n",
       "    .dataframe tbody tr th:only-of-type {\n",
       "        vertical-align: middle;\n",
       "    }\n",
       "\n",
       "    .dataframe tbody tr th {\n",
       "        vertical-align: top;\n",
       "    }\n",
       "\n",
       "    .dataframe thead th {\n",
       "        text-align: right;\n",
       "    }\n",
       "</style>\n",
       "<table border=\"1\" class=\"dataframe\">\n",
       "  <thead>\n",
       "    <tr style=\"text-align: right;\">\n",
       "      <th></th>\n",
       "      <th>LIMIT_BAL</th>\n",
       "      <th>AGE</th>\n",
       "      <th>BILL_AMT1</th>\n",
       "      <th>BILL_AMT2</th>\n",
       "      <th>BILL_AMT3</th>\n",
       "      <th>BILL_AMT4</th>\n",
       "      <th>BILL_AMT5</th>\n",
       "      <th>BILL_AMT6</th>\n",
       "    </tr>\n",
       "  </thead>\n",
       "  <tbody>\n",
       "    <tr>\n",
       "      <th>LIMIT_BAL</th>\n",
       "      <td>1.00</td>\n",
       "      <td>0.14</td>\n",
       "      <td>0.28</td>\n",
       "      <td>0.28</td>\n",
       "      <td>0.28</td>\n",
       "      <td>0.29</td>\n",
       "      <td>0.30</td>\n",
       "      <td>0.29</td>\n",
       "    </tr>\n",
       "    <tr>\n",
       "      <th>AGE</th>\n",
       "      <td>0.14</td>\n",
       "      <td>1.00</td>\n",
       "      <td>0.05</td>\n",
       "      <td>0.05</td>\n",
       "      <td>0.05</td>\n",
       "      <td>0.05</td>\n",
       "      <td>0.05</td>\n",
       "      <td>0.05</td>\n",
       "    </tr>\n",
       "    <tr>\n",
       "      <th>BILL_AMT1</th>\n",
       "      <td>0.28</td>\n",
       "      <td>0.05</td>\n",
       "      <td>1.00</td>\n",
       "      <td>0.95</td>\n",
       "      <td>0.89</td>\n",
       "      <td>0.86</td>\n",
       "      <td>0.83</td>\n",
       "      <td>0.80</td>\n",
       "    </tr>\n",
       "    <tr>\n",
       "      <th>BILL_AMT2</th>\n",
       "      <td>0.28</td>\n",
       "      <td>0.05</td>\n",
       "      <td>0.95</td>\n",
       "      <td>1.00</td>\n",
       "      <td>0.93</td>\n",
       "      <td>0.89</td>\n",
       "      <td>0.86</td>\n",
       "      <td>0.83</td>\n",
       "    </tr>\n",
       "    <tr>\n",
       "      <th>BILL_AMT3</th>\n",
       "      <td>0.28</td>\n",
       "      <td>0.05</td>\n",
       "      <td>0.89</td>\n",
       "      <td>0.93</td>\n",
       "      <td>1.00</td>\n",
       "      <td>0.93</td>\n",
       "      <td>0.89</td>\n",
       "      <td>0.86</td>\n",
       "    </tr>\n",
       "    <tr>\n",
       "      <th>BILL_AMT4</th>\n",
       "      <td>0.29</td>\n",
       "      <td>0.05</td>\n",
       "      <td>0.86</td>\n",
       "      <td>0.89</td>\n",
       "      <td>0.93</td>\n",
       "      <td>1.00</td>\n",
       "      <td>0.94</td>\n",
       "      <td>0.90</td>\n",
       "    </tr>\n",
       "    <tr>\n",
       "      <th>BILL_AMT5</th>\n",
       "      <td>0.30</td>\n",
       "      <td>0.05</td>\n",
       "      <td>0.83</td>\n",
       "      <td>0.86</td>\n",
       "      <td>0.89</td>\n",
       "      <td>0.94</td>\n",
       "      <td>1.00</td>\n",
       "      <td>0.95</td>\n",
       "    </tr>\n",
       "    <tr>\n",
       "      <th>BILL_AMT6</th>\n",
       "      <td>0.29</td>\n",
       "      <td>0.05</td>\n",
       "      <td>0.80</td>\n",
       "      <td>0.83</td>\n",
       "      <td>0.86</td>\n",
       "      <td>0.90</td>\n",
       "      <td>0.95</td>\n",
       "      <td>1.00</td>\n",
       "    </tr>\n",
       "  </tbody>\n",
       "</table>\n",
       "</div>"
      ],
      "text/plain": [
       "           LIMIT_BAL   AGE  BILL_AMT1  BILL_AMT2  BILL_AMT3  BILL_AMT4  \\\n",
       "LIMIT_BAL       1.00  0.14       0.28       0.28       0.28       0.29   \n",
       "AGE             0.14  1.00       0.05       0.05       0.05       0.05   \n",
       "BILL_AMT1       0.28  0.05       1.00       0.95       0.89       0.86   \n",
       "BILL_AMT2       0.28  0.05       0.95       1.00       0.93       0.89   \n",
       "BILL_AMT3       0.28  0.05       0.89       0.93       1.00       0.93   \n",
       "BILL_AMT4       0.29  0.05       0.86       0.89       0.93       1.00   \n",
       "BILL_AMT5       0.30  0.05       0.83       0.86       0.89       0.94   \n",
       "BILL_AMT6       0.29  0.05       0.80       0.83       0.86       0.90   \n",
       "\n",
       "           BILL_AMT5  BILL_AMT6  \n",
       "LIMIT_BAL       0.30       0.29  \n",
       "AGE             0.05       0.05  \n",
       "BILL_AMT1       0.83       0.80  \n",
       "BILL_AMT2       0.86       0.83  \n",
       "BILL_AMT3       0.89       0.86  \n",
       "BILL_AMT4       0.94       0.90  \n",
       "BILL_AMT5       1.00       0.95  \n",
       "BILL_AMT6       0.95       1.00  "
      ]
     },
     "execution_count": 111,
     "metadata": {},
     "output_type": "execute_result"
    }
   ],
   "source": [
    "# 연속형 데이터의 상관관계\n",
    "bill_amt_cols = [f\"BILL_AMT{i}\" for i in range(1, 7)]\n",
    "# pay_amt_cols = [f\"PAY_AMT{i}\" for i in range(1, 7)]\n",
    "numeric_cols = [\"LIMIT_BAL\", \"AGE\"] + bill_amt_cols\n",
    "\n",
    "corr_mat = df[numeric_cols].corr()\n",
    "corr_mat.round(2)"
   ]
  },
  {
   "cell_type": "code",
   "execution_count": 112,
   "id": "196c71b6-0ad4-4755-9bee-a980e8f75ba9",
   "metadata": {},
   "outputs": [
    {
     "data": {
      "image/png": "[encoded data removed]",
      "text/plain": [
       "<Figure size 640x480 with 2 Axes>"
      ]
     },
     "metadata": {},
     "output_type": "display_data"
    }
   ],
   "source": [
    "# 상관계수 행렬은 대칭이고 대각선이 항상 1이니까 해당 부분은 시각화에서 제외\n",
    "mask = np.triu(np.ones_like(corr_mat, dtype=bool))\n",
    "\n",
    "ax = sns.heatmap(\n",
    "    corr_mat,\n",
    "    mask=mask,\n",
    "    cmap=\"RdBu_r\",  # 색상맵 지정\n",
    "    vmin=-1.0,  # colormap의 최솟값    \n",
    "    vmax=1.0,  # colormap의 최댓값    \n",
    "    linewidths=0.5,  # 경계선 두께,\n",
    "    annot=True,  # 상관관계 수치 표기,\n",
    "    annot_kws={\"fontsize\": 8},  # annotation 폰트사이즈\n",
    ")\n",
    "ax.figure.subplots_adjust(right=0.7, top=0.7)  # 차트 사이즈 조정"
   ]
  },
  {
   "cell_type": "markdown",
   "id": "491007ca-127c-4dce-b380-b1684738dcd3",
   "metadata": {},
   "source": [
    "#### **바이올린 플랏: (채무 불이행, 학력)에 따른 신용 한도의 분포**"
   ]
  },
  {
   "cell_type": "code",
   "execution_count": 113,
   "id": "98eb2e34-8645-4b52-8ea6-bb958cb1ef5e",
   "metadata": {},
   "outputs": [
    {
     "data": {
      "text/html": [
       "<div>\n",
       "<style scoped>\n",
       "    .dataframe tbody tr th:only-of-type {\n",
       "        vertical-align: middle;\n",
       "    }\n",
       "\n",
       "    .dataframe tbody tr th {\n",
       "        vertical-align: top;\n",
       "    }\n",
       "\n",
       "    .dataframe thead th {\n",
       "        text-align: right;\n",
       "    }\n",
       "</style>\n",
       "<table border=\"1\" class=\"dataframe\">\n",
       "  <thead>\n",
       "    <tr style=\"text-align: right;\">\n",
       "      <th></th>\n",
       "      <th>DEFAULT</th>\n",
       "      <th>EDUCATION</th>\n",
       "      <th>LIMIT_BAL</th>\n",
       "    </tr>\n",
       "  </thead>\n",
       "  <tbody>\n",
       "    <tr>\n",
       "      <th>0</th>\n",
       "      <td>Default</td>\n",
       "      <td>University</td>\n",
       "      <td>20000</td>\n",
       "    </tr>\n",
       "    <tr>\n",
       "      <th>1</th>\n",
       "      <td>Default</td>\n",
       "      <td>University</td>\n",
       "      <td>120000</td>\n",
       "    </tr>\n",
       "    <tr>\n",
       "      <th>2</th>\n",
       "      <td>Non-Default</td>\n",
       "      <td>University</td>\n",
       "      <td>90000</td>\n",
       "    </tr>\n",
       "    <tr>\n",
       "      <th>3</th>\n",
       "      <td>Non-Default</td>\n",
       "      <td>University</td>\n",
       "      <td>50000</td>\n",
       "    </tr>\n",
       "    <tr>\n",
       "      <th>4</th>\n",
       "      <td>Non-Default</td>\n",
       "      <td>University</td>\n",
       "      <td>50000</td>\n",
       "    </tr>\n",
       "  </tbody>\n",
       "</table>\n",
       "</div>"
      ],
      "text/plain": [
       "       DEFAULT   EDUCATION  LIMIT_BAL\n",
       "0      Default  University      20000\n",
       "1      Default  University     120000\n",
       "2  Non-Default  University      90000\n",
       "3  Non-Default  University      50000\n",
       "4  Non-Default  University      50000"
      ]
     },
     "execution_count": 113,
     "metadata": {},
     "output_type": "execute_result"
    }
   ],
   "source": [
    "df[[\"DEFAULT\", \"EDUCATION\", \"LIMIT_BAL\"]].head()"
   ]
  },
  {
   "cell_type": "code",
   "execution_count": 114,
   "id": "20b0ea8e-6d34-4ad4-8956-5ed010abaf7a",
   "metadata": {},
   "outputs": [
    {
     "data": {
      "text/plain": [
       "<Axes: xlabel='DEFAULT', ylabel='LIMIT_BAL'>"
      ]
     },
     "execution_count": 114,
     "metadata": {},
     "output_type": "execute_result"
    },
    {
     "data": {
      "image/png": "[encoded data removed]",
      "text/plain": [
       "<Figure size 640x480 with 1 Axes>"
      ]
     },
     "metadata": {},
     "output_type": "display_data"
    }
   ],
   "source": [
    "sns.violinplot(\n",
    "    data=df,\n",
    "    x=\"DEFAULT\",  # x축: 범주\n",
    "    y=\"LIMIT_BAL\",  # y축: 분포를 시각화 하려는 변수 (신용도)\n",
    "    hue=\"EDUCATION\"  # 그룹: 학력\n",
    ")"
   ]
  }
 ],
 "metadata": {
  "kernelspec": {
   "display_name": "Python [conda env:base] *",
   "language": "python",
   "name": "conda-base-py"
  },
  "language_info": {
   "codemirror_mode": {
    "name": "ipython",
    "version": 3
   },
   "file_extension": ".py",
   "mimetype": "text/x-python",
   "name": "python",
   "nbconvert_exporter": "python",
   "pygments_lexer": "ipython3",
   "version": "3.13.5"
  }
 },
 "nbformat": 4,
 "nbformat_minor": 5
}
